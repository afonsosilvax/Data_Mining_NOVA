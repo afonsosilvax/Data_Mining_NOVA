{
 "cells": [
  {
   "cell_type": "markdown",
   "id": "4732109e",
   "metadata": {},
   "source": [
    "# Data Mining Project - Group 2\n",
    "\n",
    "Student name: Sarah Leuthner <br>\n",
    "Student ID: 20240581 <br>\n",
    "\n",
    "Student name: Catarina Silva <br>\n",
    "Student ID: 20240558 <br>\n",
    "\n",
    "Student name: Afonso Silva<br>\n",
    "Student ID: 20240495 <br>\n",
    "\n",
    "Student name:<br>\n",
    "Student ID:<br>"
   ]
  },
  {
   "cell_type": "markdown",
   "id": "0d9aab19",
   "metadata": {},
   "source": [
    "# Data Exploration"
   ]
  },
  {
   "cell_type": "code",
   "execution_count": 2,
   "id": "8b238c92",
   "metadata": {},
   "outputs": [],
   "source": [
    "#importing all needed libraries\n",
    "import sqlite3\n",
    "import os #interact with local file system\n",
    "import pandas as pd\n",
    "import numpy as np\n",
    "import matplotlib.pyplot as plt\n",
    "import seaborn as sns\n",
    "from math import ceil\n",
    "\n",
    "# for better resolution plots\n",
    "%config InlineBackend.figure_format = 'retina' # optionally, you can change 'svg' to 'retina'\n",
    "\n",
    "# Seeting seaborn style\n",
    "sns.set()"
   ]
  },
  {
   "cell_type": "code",
   "execution_count": 4,
   "id": "17de1c95",
   "metadata": {},
   "outputs": [],
   "source": [
    "#path to database\n",
    "#customer_data = pd.read_csv(\"DM2425_ABCDEats_DATASET.csv\", index_col = \"customer_id\")\n",
    "\n",
    "#df_customer_data = pd.DataFrame(customer_data)"
   ]
  },
  {
   "cell_type": "code",
   "execution_count": null,
   "id": "95b91b88",
   "metadata": {},
   "outputs": [],
   "source": []
  }
 ],
 "metadata": {
  "kernelspec": {
   "display_name": "Python 3 (ipykernel)",
   "language": "python",
   "name": "python3"
  },
  "language_info": {
   "codemirror_mode": {
    "name": "ipython",
    "version": 3
   },
   "file_extension": ".py",
   "mimetype": "text/x-python",
   "name": "python",
   "nbconvert_exporter": "python",
   "pygments_lexer": "ipython3",
   "version": "3.11.4"
  }
 },
 "nbformat": 4,
 "nbformat_minor": 5
}
